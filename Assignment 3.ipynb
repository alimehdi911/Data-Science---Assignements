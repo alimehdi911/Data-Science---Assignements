{
 "cells": [
  {
   "cell_type": "markdown",
   "id": "1c71e388-0a91-4f25-9845-4e660f9daf2c",
   "metadata": {},
   "source": [
    "# Python List Manipulation Assignment\n"
   ]
  },
  {
   "cell_type": "markdown",
   "id": "09cc45ef-b272-4df7-a2b7-c0e0263f2db9",
   "metadata": {},
   "source": [
    "## Basic List Operations"
   ]
  },
  {
   "cell_type": "code",
   "execution_count": 6,
   "id": "a47880d7-f085-4b26-9e59-4e44baa6186d",
   "metadata": {},
   "outputs": [
    {
     "name": "stdout",
     "output_type": "stream",
     "text": [
      "['apple', 'banana', 'orange', 'grape', 'kiwi']\n",
      "['apple', 'banana', 'orange', 'grape', 'kiwi', 'pear']\n",
      "['apple', 'mango', 'banana', 'orange', 'grape', 'kiwi', 'pear']\n",
      "['apple', 'mango', 'banana', 'grape', 'kiwi', 'pear']\n"
     ]
    }
   ],
   "source": [
    "#a) Create a list named 'fruits' containing the following items: \"apple\", \"banana\", \"orange\", \"grape\", \"kiwi\".\n",
    "#b) Add \"pear\" to the end of the list.\n",
    "#c) Insert \"mango\" at the second position in the list.\n",
    "#d) Remove \"orange\" from the list.\n",
    "\n",
    "\n",
    "\n",
    "fruits = ['apple','banana','orange','grape','kiwi']\n",
    "print(fruits)\n",
    "fruits.append('pear')\n",
    "print(fruits)\n",
    "fruits.insert(1,'mango')\n",
    "print(fruits)\n",
    "fruits.remove('orange')\n",
    "print(fruits)"
   ]
  },
  {
   "cell_type": "markdown",
   "id": "ff6f0070-7ba3-4c9d-a1dc-83eaa67c6290",
   "metadata": {},
   "source": [
    "## Slicing and Indexing"
   ]
  },
  {
   "cell_type": "code",
   "execution_count": 25,
   "id": "0dd45ba1-0177-4c4c-b1a7-424b3b093121",
   "metadata": {},
   "outputs": [
    {
     "name": "stdout",
     "output_type": "stream",
     "text": [
      "[0, 1, 2, 3, 4, 5, 6, 7, 8, 9]\n",
      "3\n",
      "[2, 3, 4, 5, 6]\n",
      "[7, 8, 9]\n"
     ]
    }
   ],
   "source": [
    "#a) Create a list named 'numbers' containing the integers from 0 to 9.\n",
    "#b) Print the element at index 3.\n",
    "#c) Print a sublist containing the elements from index 2 to 6 (inclusive).\n",
    "#d) Print the last three elements using negative indexing.\n",
    "\n",
    "numbers = [0,1,2,3,4,5,6,7,8,9]\n",
    "#numbers = list(range(0,10))                                          another way to define numbers list \n",
    "print(numbers)\n",
    "print(numbers[3])\n",
    "print(numbers[2:7])\n",
    "print(numbers[-3:])"
   ]
  },
  {
   "cell_type": "markdown",
   "id": "dc8e5e83-d090-4e5a-8cc7-e47817d06d12",
   "metadata": {},
   "source": [
    "## List Comprehension"
   ]
  },
  {
   "cell_type": "code",
   "execution_count": 29,
   "id": "69b3eaf3-e74f-4991-aea8-b64f086d0d00",
   "metadata": {},
   "outputs": [
    {
     "name": "stdout",
     "output_type": "stream",
     "text": [
      "[1, 4, 9, 16, 25, 36, 49, 64, 81, 100]\n",
      "[4, 16, 36, 64, 100]\n"
     ]
    }
   ],
   "source": [
    "#a) Create a list named 'squares' using a list comprehension that contains the squares of numbers from 1 to 10.\n",
    "#b) Create a new list named 'even_squares' using a list comprehension that contains the squares of even numbers from the 'squares' list.\n",
    "\n",
    "\n",
    "squares = [ x**2 for x in range(1,11)]\n",
    "print(squares)\n",
    "\n",
    "\n",
    "even_squares = [x for x in squares if x % 2 == 0]\n",
    "print(even_squares)"
   ]
  },
  {
   "cell_type": "markdown",
   "id": "c8432e4d-34e5-4b60-8a16-33f999901fbd",
   "metadata": {},
   "source": [
    "## List Manipulation"
   ]
  },
  {
   "cell_type": "code",
   "execution_count": 60,
   "id": "469e73fe-e1e6-40cb-bee5-05f5d7516b10",
   "metadata": {},
   "outputs": [
    {
     "name": "stdout",
     "output_type": "stream",
     "text": [
      "['red', 'green', 'blue', 'yellow', 'purple']\n",
      "['purple', 'green', 'blue', 'yellow', 'red']\n",
      "['purple', 'yellow', 'blue', 'green', 'red']\n",
      "['red', 'yellow', 'purple']\n"
     ]
    }
   ],
   "source": [
    "#a) Create a list named 'colors' containing the following items: \"red\", \"green\", \"blue\", \"yellow\", \"purple\".\n",
    "#b) Swap the first and last elements of the list.\n",
    "#c) Reverse the order of the list.\n",
    "#d) Remove the second and third elements from the list.\n",
    "\n",
    "\n",
    "colors = [\"red\", \"green\", \"blue\", \"yellow\", \"purple\"]\n",
    "print(colors)\n",
    "\n",
    "\n",
    "#---------------------------------------\n",
    "\n",
    "first_element = colors[0]\n",
    "last_element = colors[-1]\n",
    "colors = [last_element] + colors[1:-1] + [first_element]\n",
    "print(colors)\n",
    "\n",
    "#----------------------------------------\n",
    "\n",
    "colors = [\"red\", \"green\", \"blue\", \"yellow\", \"purple\"]\n",
    "print(colors[::-1])\n",
    "\n",
    "#----------------------------------------\n",
    "\n",
    "\n",
    "colors = [\"red\", \"green\", \"blue\", \"yellow\", \"purple\"]\n",
    "del colors[1:3]\n",
    "print(colors)\n"
   ]
  },
  {
   "cell_type": "markdown",
   "id": "090fa20f-1d3f-4630-b80f-6055831750f6",
   "metadata": {},
   "source": [
    "## Advance Slicing"
   ]
  },
  {
   "cell_type": "code",
   "execution_count": 72,
   "id": "1a06841c-2df1-4385-98ee-dbc300a26e27",
   "metadata": {},
   "outputs": [
    {
     "name": "stdout",
     "output_type": "stream",
     "text": [
      "['a', 'b', 'c', 'd', 'e', 'f', 'g', 'h', 'i', 'j']\n",
      "['a', 'b', 'c', 'd', 'e']\n"
     ]
    },
    {
     "data": {
      "text/plain": [
       "['h', 'i', 'j']"
      ]
     },
     "execution_count": 72,
     "metadata": {},
     "output_type": "execute_result"
    }
   ],
   "source": [
    "#a) Create a list named 'letters' containing the letters from 'a' to 'j'.\n",
    "#b) Using slicing, create a new list 'first_half containing the first half of the 'letters' list.\n",
    "#c) Using slicing, create a new list 'last_three' containing the last three elements of the 'letters' list.\n",
    "\n",
    "\n",
    "\n",
    "letters = list('abcdefghij')\n",
    "print(letters)\n",
    "\n",
    "#-------------------------------------------------\n",
    "\n",
    "letters = list('abcdefghij')\n",
    "half_letters = len(letters)//2\n",
    "#half_letters\n",
    "first_half = letters[:half_letters]\n",
    "print(first_half)\n",
    "\n",
    "#-------------------------------------------------\n",
    "\n",
    "letters = list('abcdefghij')\n",
    "last_three = letters[7:]\n",
    "last_three\n"
   ]
  },
  {
   "cell_type": "markdown",
   "id": "d5488f3f-836a-447e-af32-527efe1e1c63",
   "metadata": {},
   "source": [
    "## Nested Lists"
   ]
  },
  {
   "cell_type": "code",
   "execution_count": 87,
   "id": "4c11f4f1-07ae-490a-834e-e0a0c93795e9",
   "metadata": {},
   "outputs": [
    {
     "name": "stdout",
     "output_type": "stream",
     "text": [
      "[[1, 2, 3], [4, 5, 6], [7, 8, 9]]\n",
      "[1, 2, 3]\n",
      "[4, 5, 6]\n",
      "[7, 8, 9]\n",
      "6\n",
      "[[1, 2, 3], [0, 5, 6], [7, 8, 9]]\n",
      "[1, 2, 3]\n",
      "[0, 5, 6]\n",
      "[7, 8, 9]\n"
     ]
    }
   ],
   "source": [
    "#a) Create a nested list named 'matrix' with the following rows:\n",
    "#   - [1, 2, 3]\n",
    "#   - [4, 5, 6]\n",
    "#   - [7, 8, 9]\n",
    "\n",
    "#b) Print the element in the second row and third column.\n",
    "#c) Use nested indexing to change the value at the second row and first column to 0.\n",
    "\n",
    "\n",
    "matrix = [[1,2,3],[4,5,6],[7,8,9]]\n",
    "print(matrix)\n",
    "for i in matrix:\n",
    "    print(i)\n",
    "\n",
    "#----------------------------------\n",
    "\n",
    "\n",
    "element = (matrix[1][2])\n",
    "print(element)\n",
    "\n",
    "#----------------------------------\n",
    "\n",
    "matrix[1][0] = 0    \n",
    "print (matrix)\n",
    "for i in matrix:\n",
    "    print(i)\n",
    "    \n",
    "    \n",
    "\n"
   ]
  },
  {
   "cell_type": "code",
   "execution_count": null,
   "id": "44c2e80d-7e61-42c7-866b-303cb88c06ea",
   "metadata": {},
   "outputs": [],
   "source": []
  }
 ],
 "metadata": {
  "kernelspec": {
   "display_name": "Python 3 (ipykernel)",
   "language": "python",
   "name": "python3"
  },
  "language_info": {
   "codemirror_mode": {
    "name": "ipython",
    "version": 3
   },
   "file_extension": ".py",
   "mimetype": "text/x-python",
   "name": "python",
   "nbconvert_exporter": "python",
   "pygments_lexer": "ipython3",
   "version": "3.9.13"
  }
 },
 "nbformat": 4,
 "nbformat_minor": 5
}
