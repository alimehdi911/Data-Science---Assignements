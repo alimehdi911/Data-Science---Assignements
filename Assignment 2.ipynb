{
 "cells": [
  {
   "cell_type": "code",
   "execution_count": 17,
   "id": "39e40c77-2698-4221-af87-9e904d71a821",
   "metadata": {},
   "outputs": [
    {
     "name": "stdout",
     "output_type": "stream",
     "text": [
      "My name is Ali Mehdi, I am 25years old, I live in Pakistan.\n"
     ]
    }
   ],
   "source": [
    "# Assignment 1\n",
    "name = 'Ali Mehdi'\n",
    "age = '25'\n",
    "country = 'Pakistan'\n",
    "\n",
    "statement = 'My name is '+ name + ', I am '+ age + 'years old,' ' I live in ' + country+ '.'\n",
    "\n",
    "print(statement)"
   ]
  },
  {
   "cell_type": "code",
   "execution_count": 18,
   "id": "5197088c-63b2-498e-8a8c-7d028dd16be1",
   "metadata": {},
   "outputs": [
    {
     "name": "stdout",
     "output_type": "stream",
     "text": [
      "I bought 10 Falcons at 50000 for a total of PKR 500000.\n"
     ]
    }
   ],
   "source": [
    "# Assignment 2\n",
    "\n",
    "item = \"Falcons\"\n",
    "price = 50000\n",
    "quantity = 10\n",
    "\n",
    "total_cost = price * quantity\n",
    "#print (total_cost)\n",
    "\n",
    "statement = \"I bought {} {} at {} for a total of PKR {}.\" .format(quantity ,item, price , total_cost)\n",
    "print (statement)"
   ]
  },
  {
   "cell_type": "code",
   "execution_count": 24,
   "id": "cb0c2236-aab4-4078-a9d2-a58ffd515ac6",
   "metadata": {},
   "outputs": [
    {
     "name": "stdout",
     "output_type": "stream",
     "text": [
      "The temperature in Karachi is 40 °C.\n"
     ]
    }
   ],
   "source": [
    "# Assignement 3\n",
    "\n",
    "city = 'Karachi'\n",
    "temp = 40\n",
    "\n",
    "statement = f\"The temperature in {city} is {temp} °C.\"\n",
    "\n",
    "print (statement)"
   ]
  },
  {
   "cell_type": "code",
   "execution_count": 26,
   "id": "5b013979-6084-4033-861b-f9742ac047c5",
   "metadata": {},
   "outputs": [
    {
     "name": "stdout",
     "output_type": "stream",
     "text": [
      "My name is Ali Mehdi. I am 26 years old\n"
     ]
    }
   ],
   "source": [
    "# Assignment 4\n",
    "\n",
    "f_name = \"Ali\"\n",
    "l_name = \"Mehdi\"\n",
    "birth_year = 1997\n",
    "current_year = 2023\n",
    "age = current_year - birth_year\n",
    "\n",
    "statement = \"My name is %s %s. I am %d years old\"%(f_name,l_name,age)\n",
    "\n",
    "print (statement)"
   ]
  },
  {
   "cell_type": "code",
   "execution_count": 55,
   "id": "f0a96f3e-30de-412f-b6bc-da83f17ed4b2",
   "metadata": {},
   "outputs": [
    {
     "name": "stdin",
     "output_type": "stream",
     "text": [
      "Product Name:  Jeans\n",
      "Discount percentage:  10\n",
      "Retail Price:  185\n"
     ]
    },
    {
     "name": "stdout",
     "output_type": "stream",
     "text": [
      "Get your favourite Jeans, featuring original price of 185.0, a fantastic discount of 10.0%, now only at 166.5!\n",
      "Get your favourite Jeans, featuring original price of 185.0, a fantastic discount of 10.0%, now only at 166.5!\n",
      "Get your favourite Jeans, featuring original price of 185.00, a fantastic discount of 10.00%, now only at 166.50!\n"
     ]
    }
   ],
   "source": [
    "# Assignment 5\n",
    "\n",
    "prod = input('Product Name: ')\n",
    "dis = float(input('Discount percentage: '))\n",
    "price = float(input('Retail Price: '))\n",
    "\n",
    "dis_price = price * (1 - dis/100)\n",
    "\n",
    " \n",
    "\n",
    "statement = f\"Get your favourite {prod}, featuring original price of {price}, a fantastic discount of {dis}%, now only at {dis_price}!\"\n",
    "print (statement)\n",
    "\n",
    "statement = \"Get your favourite {}, featuring original price of {}, a fantastic discount of {}%, now only at {}!\".format(prod,price,dis,dis_price)\n",
    "print(statement)\n",
    "\n",
    "statement = \"Get your favourite %s, featuring original price of %.2f, a fantastic discount of %.2f%%, now only at %.2f!\"%(prod,price,dis,dis_price)\n",
    "print(statement)"
   ]
  },
  {
   "cell_type": "code",
   "execution_count": null,
   "id": "f99a6288-c492-436a-9970-0c193385cc79",
   "metadata": {},
   "outputs": [],
   "source": []
  }
 ],
 "metadata": {
  "kernelspec": {
   "display_name": "Python 3 (ipykernel)",
   "language": "python",
   "name": "python3"
  },
  "language_info": {
   "codemirror_mode": {
    "name": "ipython",
    "version": 3
   },
   "file_extension": ".py",
   "mimetype": "text/x-python",
   "name": "python",
   "nbconvert_exporter": "python",
   "pygments_lexer": "ipython3",
   "version": "3.9.13"
  }
 },
 "nbformat": 4,
 "nbformat_minor": 5
}
